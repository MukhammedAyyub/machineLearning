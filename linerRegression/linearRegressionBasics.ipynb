{
 "cells": [
  {
   "cell_type": "markdown",
   "metadata": {},
   "source": [
    "# 📌 Introduction to Linear Regression\n",
    "Linear Regression is one of the fundamental algorithms in Machine Learning. It is used to predict a continuous outcome based on input features.\n",
    "\n",
    "**Example Use Cases:**\n",
    "- Predicting house prices based on size\n",
    "- Estimating salaries based on years of experience\n",
    "- Forecasting sales based on advertising budget\n",
    "\n",
    "Let's explore how Linear Regression works and implement it using Python! 🚀"
   ]
  },
  {
   "cell_type": "code",
   "execution_count": null,
   "metadata": {},
   "outputs": [],
   "source": [
    "# Import necessary libraries\n",
    "import numpy as np\n",
    "import matplotlib.pyplot as plt\n",
    "from sklearn.linear_model import LinearRegression\n",
    "from sklearn.model_selection import train_test_split\n",
    "from sklearn.metrics import mean_squared_error, r2_score"
   ]
  },
  {
   "cell_type": "markdown",
   "metadata": {},
   "source": [
    "❗ If you are working on a local environment you have to install the libraries"
   ]
  },
  {
   "cell_type": "markdown",
   "metadata": {},
   "source": [
    "## 📊 Linear Regression Formula\n",
    "Linear Regression aims to fit a straight line to the data points:\n",
    "\n",
    "$$ Y = mX + b $$\n",
    "\n",
    "- **Y** = Predicted output (dependent variable)\n",
    "- **X** = Input feature (independent variable)\n",
    "- **m** = Slope (weight)\n",
    "- **b** = Intercept (bias)\n",
    "\n",
    "The goal is to find the best values of `m` and `b` that minimize the error."
   ]
  },
  {
   "cell_type": "code",
   "execution_count": null,
   "metadata": {},
   "outputs": [],
   "source": [
    "# Generate sample data (Years of Experience vs Salary)\n",
    "X = np.array([1, 2, 3, 4, 5, 6, 7, 8, 9, 10]).reshape(-1, 1)  # Independent variable\n",
    "Y = np.array([30000, 35000, 40000, 45000, 50000, 55000, 60000, 65000, 70000, 75000])  # Dependent variable\n",
    "\n",
    "# Visualizing the dataset\n",
    "plt.scatter(X, Y, color='blue')\n",
    "plt.xlabel('Years of Experience')\n",
    "plt.ylabel('Salary')\n",
    "plt.title('Years of Experience vs Salary')\n",
    "plt.show()"
   ]
  },
  {
   "cell_type": "code",
   "execution_count": null,
   "metadata": {},
   "outputs": [],
   "source": [
    "# Split data into training and testing sets\n",
    "X_train, X_test, Y_train, Y_test = train_test_split(X, Y, test_size=0.2, random_state=42)"
   ]
  },
  {
   "cell_type": "code",
   "execution_count": null,
   "metadata": {},
   "outputs": [],
   "source": [
    "# Create and train the Linear Regression model\n",
    "model = LinearRegression()\n",
    "model.fit(X_train, Y_train)"
   ]
  },
  {
   "cell_type": "code",
   "execution_count": null,
   "metadata": {},
   "outputs": [],
   "source": [
    "# Predict salaries using the trained model\n",
    "Y_pred = model.predict(X_test)\n",
    "\n",
    "# Display the predictions\n",
    "print('Predicted Salaries:', Y_pred)"
   ]
  },
  {
   "cell_type": "code",
   "execution_count": null,
   "metadata": {},
   "outputs": [],
   "source": [
    "# Plot the regression line\n",
    "plt.scatter(X, Y, color='blue', label='Actual Data')\n",
    "plt.plot(X, model.predict(X), color='red', label='Regression Line')\n",
    "plt.xlabel('Years of Experience')\n",
    "plt.ylabel('Salary')\n",
    "plt.title('Linear Regression Model')\n",
    "plt.legend()\n",
    "plt.show()"
   ]
  },
  {
   "cell_type": "code",
   "execution_count": null,
   "metadata": {},
   "outputs": [],
   "source": [
    "# Evaluate the model performance\n",
    "mse = mean_squared_error(Y_test, Y_pred)\n",
    "r2 = r2_score(Y_test, Y_pred)\n",
    "\n",
    "print(f'Mean Squared Error (MSE): {mse}')\n",
    "print(f'R-squared Score: {r2}')"
   ]
  },
  {
   "cell_type": "markdown",
   "metadata": {},
   "source": [
    "## ✅ Conclusion\n",
    "- We built a **Linear Regression Model** to predict salaries based on years of experience.\n",
    "- The model was trained, tested, and evaluated using **Mean Squared Error (MSE)** and **R² Score**.\n",
    "- The red line in the plot represents the **best-fit regression line**.\n",
    "\n",
    "**Next Steps:**\n",
    "- Try with a larger dataset 📈\n",
    "- Experiment with **Multiple Linear Regression** (multiple features) 🤖\n",
    "- Explore other models like **Polynomial Regression** for non-linear relationships!\n",
    "\n",
    "Happy Learning! 🚀"
   ]
  }
 ],
 "metadata": {
  "kernelspec": {
   "display_name": "Python 3",
   "language": "python",
   "name": "python3"
  },
  "language_info": {
   "codemirror_mode": {
    "name": "ipython",
    "version": 3
   },
   "file_extension": ".py",
   "mimetype": "text/x-python",
   "name": "python",
   "nbconvert_exporter": "python",
   "pygments_lexer": "ipython3",
   "version": "3.8.10"
  }
 },
 "nbformat": 4,
 "nbformat_minor": 4
}
