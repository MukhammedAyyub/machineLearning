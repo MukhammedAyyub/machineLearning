{
  "cells": [
    {
      "cell_type": "code",
      "execution_count": null,
      "metadata": {
        "colab": {
          "base_uri": "https://localhost:8080/"
        },
        "id": "T2YZU411B7r4",
        "outputId": "208d3ac0-586b-49d2-e881-83636421c4be"
      },
      "outputs": [
        {
          "name": "stdout",
          "output_type": "stream",
          "text": [
            "Collecting deepface\n",
            "  Downloading deepface-0.0.93-py3-none-any.whl.metadata (30 kB)\n",
            "Requirement already satisfied: requests>=2.27.1 in /usr/local/lib/python3.11/dist-packages (from deepface) (2.32.3)\n",
            "Requirement already satisfied: numpy>=1.14.0 in /usr/local/lib/python3.11/dist-packages (from deepface) (2.0.2)\n",
            "Requirement already satisfied: pandas>=0.23.4 in /usr/local/lib/python3.11/dist-packages (from deepface) (2.2.2)\n",
            "Requirement already satisfied: gdown>=3.10.1 in /usr/local/lib/python3.11/dist-packages (from deepface) (5.2.0)\n",
            "Requirement already satisfied: tqdm>=4.30.0 in /usr/local/lib/python3.11/dist-packages (from deepface) (4.67.1)\n",
            "Requirement already satisfied: Pillow>=5.2.0 in /usr/local/lib/python3.11/dist-packages (from deepface) (11.2.1)\n",
            "Requirement already satisfied: opencv-python>=4.5.5.64 in /usr/local/lib/python3.11/dist-packages (from deepface) (4.11.0.86)\n",
            "Requirement already satisfied: tensorflow>=1.9.0 in /usr/local/lib/python3.11/dist-packages (from deepface) (2.18.0)\n",
            "Requirement already satisfied: keras>=2.2.0 in /usr/local/lib/python3.11/dist-packages (from deepface) (3.8.0)\n",
            "Requirement already satisfied: Flask>=1.1.2 in /usr/local/lib/python3.11/dist-packages (from deepface) (3.1.1)\n",
            "Collecting flask-cors>=4.0.1 (from deepface)\n",
            "  Downloading flask_cors-6.0.0-py3-none-any.whl.metadata (961 bytes)\n",
            "Collecting mtcnn>=0.1.0 (from deepface)\n",
            "  Downloading mtcnn-1.0.0-py3-none-any.whl.metadata (5.8 kB)\n",
            "Collecting retina-face>=0.0.1 (from deepface)\n",
            "  Downloading retina_face-0.0.17-py3-none-any.whl.metadata (10 kB)\n",
            "Collecting fire>=0.4.0 (from deepface)\n",
            "  Downloading fire-0.7.0.tar.gz (87 kB)\n",
            "\u001b[2K     \u001b[90m━━━━━━━━━━━━━━━━━━━━━━━━━━━━━━━━━━━━━━━━\u001b[0m \u001b[32m87.2/87.2 kB\u001b[0m \u001b[31m6.3 MB/s\u001b[0m eta \u001b[36m0:00:00\u001b[0m\n",
            "\u001b[?25h  Preparing metadata (setup.py) ... \u001b[?25l\u001b[?25hdone\n",
            "Collecting gunicorn>=20.1.0 (from deepface)\n",
            "  Downloading gunicorn-23.0.0-py3-none-any.whl.metadata (4.4 kB)\n",
            "Requirement already satisfied: termcolor in /usr/local/lib/python3.11/dist-packages (from fire>=0.4.0->deepface) (3.1.0)\n",
            "Requirement already satisfied: blinker>=1.9.0 in /usr/local/lib/python3.11/dist-packages (from Flask>=1.1.2->deepface) (1.9.0)\n",
            "Requirement already satisfied: click>=8.1.3 in /usr/local/lib/python3.11/dist-packages (from Flask>=1.1.2->deepface) (8.2.1)\n",
            "Requirement already satisfied: itsdangerous>=2.2.0 in /usr/local/lib/python3.11/dist-packages (from Flask>=1.1.2->deepface) (2.2.0)\n",
            "Requirement already satisfied: jinja2>=3.1.2 in /usr/local/lib/python3.11/dist-packages (from Flask>=1.1.2->deepface) (3.1.6)\n",
            "Requirement already satisfied: markupsafe>=2.1.1 in /usr/local/lib/python3.11/dist-packages (from Flask>=1.1.2->deepface) (3.0.2)\n",
            "Requirement already satisfied: werkzeug>=3.1.0 in /usr/local/lib/python3.11/dist-packages (from Flask>=1.1.2->deepface) (3.1.3)\n",
            "Requirement already satisfied: beautifulsoup4 in /usr/local/lib/python3.11/dist-packages (from gdown>=3.10.1->deepface) (4.13.4)\n",
            "Requirement already satisfied: filelock in /usr/local/lib/python3.11/dist-packages (from gdown>=3.10.1->deepface) (3.18.0)\n",
            "Requirement already satisfied: packaging in /usr/local/lib/python3.11/dist-packages (from gunicorn>=20.1.0->deepface) (24.2)\n",
            "Requirement already satisfied: absl-py in /usr/local/lib/python3.11/dist-packages (from keras>=2.2.0->deepface) (1.4.0)\n",
            "Requirement already satisfied: rich in /usr/local/lib/python3.11/dist-packages (from keras>=2.2.0->deepface) (13.9.4)\n",
            "Requirement already satisfied: namex in /usr/local/lib/python3.11/dist-packages (from keras>=2.2.0->deepface) (0.0.9)\n",
            "Requirement already satisfied: h5py in /usr/local/lib/python3.11/dist-packages (from keras>=2.2.0->deepface) (3.13.0)\n",
            "Requirement already satisfied: optree in /usr/local/lib/python3.11/dist-packages (from keras>=2.2.0->deepface) (0.15.0)\n",
            "Requirement already satisfied: ml-dtypes in /usr/local/lib/python3.11/dist-packages (from keras>=2.2.0->deepface) (0.4.1)\n",
            "Requirement already satisfied: joblib>=1.4.2 in /usr/local/lib/python3.11/dist-packages (from mtcnn>=0.1.0->deepface) (1.5.0)\n",
            "Collecting lz4>=4.3.3 (from mtcnn>=0.1.0->deepface)\n",
            "  Downloading lz4-4.4.4-cp311-cp311-manylinux_2_17_x86_64.manylinux2014_x86_64.whl.metadata (3.8 kB)\n",
            "Requirement already satisfied: python-dateutil>=2.8.2 in /usr/local/lib/python3.11/dist-packages (from pandas>=0.23.4->deepface) (2.9.0.post0)\n",
            "Requirement already satisfied: pytz>=2020.1 in /usr/local/lib/python3.11/dist-packages (from pandas>=0.23.4->deepface) (2025.2)\n",
            "Requirement already satisfied: tzdata>=2022.7 in /usr/local/lib/python3.11/dist-packages (from pandas>=0.23.4->deepface) (2025.2)\n",
            "Requirement already satisfied: charset-normalizer<4,>=2 in /usr/local/lib/python3.11/dist-packages (from requests>=2.27.1->deepface) (3.4.2)\n",
            "Requirement already satisfied: idna<4,>=2.5 in /usr/local/lib/python3.11/dist-packages (from requests>=2.27.1->deepface) (3.10)\n",
            "Requirement already satisfied: urllib3<3,>=1.21.1 in /usr/local/lib/python3.11/dist-packages (from requests>=2.27.1->deepface) (2.4.0)\n",
            "Requirement already satisfied: certifi>=2017.4.17 in /usr/local/lib/python3.11/dist-packages (from requests>=2.27.1->deepface) (2025.4.26)\n",
            "Requirement already satisfied: astunparse>=1.6.0 in /usr/local/lib/python3.11/dist-packages (from tensorflow>=1.9.0->deepface) (1.6.3)\n",
            "Requirement already satisfied: flatbuffers>=24.3.25 in /usr/local/lib/python3.11/dist-packages (from tensorflow>=1.9.0->deepface) (25.2.10)\n",
            "Requirement already satisfied: gast!=0.5.0,!=0.5.1,!=0.5.2,>=0.2.1 in /usr/local/lib/python3.11/dist-packages (from tensorflow>=1.9.0->deepface) (0.6.0)\n",
            "Requirement already satisfied: google-pasta>=0.1.1 in /usr/local/lib/python3.11/dist-packages (from tensorflow>=1.9.0->deepface) (0.2.0)\n",
            "Requirement already satisfied: libclang>=13.0.0 in /usr/local/lib/python3.11/dist-packages (from tensorflow>=1.9.0->deepface) (18.1.1)\n",
            "Requirement already satisfied: opt-einsum>=2.3.2 in /usr/local/lib/python3.11/dist-packages (from tensorflow>=1.9.0->deepface) (3.4.0)\n",
            "Requirement already satisfied: protobuf!=4.21.0,!=4.21.1,!=4.21.2,!=4.21.3,!=4.21.4,!=4.21.5,<6.0.0dev,>=3.20.3 in /usr/local/lib/python3.11/dist-packages (from tensorflow>=1.9.0->deepface) (5.29.4)\n",
            "Requirement already satisfied: setuptools in /usr/local/lib/python3.11/dist-packages (from tensorflow>=1.9.0->deepface) (75.2.0)\n",
            "Requirement already satisfied: six>=1.12.0 in /usr/local/lib/python3.11/dist-packages (from tensorflow>=1.9.0->deepface) (1.17.0)\n",
            "Requirement already satisfied: typing-extensions>=3.6.6 in /usr/local/lib/python3.11/dist-packages (from tensorflow>=1.9.0->deepface) (4.13.2)\n",
            "Requirement already satisfied: wrapt>=1.11.0 in /usr/local/lib/python3.11/dist-packages (from tensorflow>=1.9.0->deepface) (1.17.2)\n",
            "Requirement already satisfied: grpcio<2.0,>=1.24.3 in /usr/local/lib/python3.11/dist-packages (from tensorflow>=1.9.0->deepface) (1.71.0)\n",
            "Requirement already satisfied: tensorboard<2.19,>=2.18 in /usr/local/lib/python3.11/dist-packages (from tensorflow>=1.9.0->deepface) (2.18.0)\n",
            "Requirement already satisfied: tensorflow-io-gcs-filesystem>=0.23.1 in /usr/local/lib/python3.11/dist-packages (from tensorflow>=1.9.0->deepface) (0.37.1)\n",
            "Requirement already satisfied: wheel<1.0,>=0.23.0 in /usr/local/lib/python3.11/dist-packages (from astunparse>=1.6.0->tensorflow>=1.9.0->deepface) (0.45.1)\n",
            "Requirement already satisfied: markdown>=2.6.8 in /usr/local/lib/python3.11/dist-packages (from tensorboard<2.19,>=2.18->tensorflow>=1.9.0->deepface) (3.8)\n",
            "Requirement already satisfied: tensorboard-data-server<0.8.0,>=0.7.0 in /usr/local/lib/python3.11/dist-packages (from tensorboard<2.19,>=2.18->tensorflow>=1.9.0->deepface) (0.7.2)\n",
            "Requirement already satisfied: soupsieve>1.2 in /usr/local/lib/python3.11/dist-packages (from beautifulsoup4->gdown>=3.10.1->deepface) (2.7)\n",
            "Requirement already satisfied: PySocks!=1.5.7,>=1.5.6 in /usr/local/lib/python3.11/dist-packages (from requests[socks]->gdown>=3.10.1->deepface) (1.7.1)\n",
            "Requirement already satisfied: markdown-it-py>=2.2.0 in /usr/local/lib/python3.11/dist-packages (from rich->keras>=2.2.0->deepface) (3.0.0)\n",
            "Requirement already satisfied: pygments<3.0.0,>=2.13.0 in /usr/local/lib/python3.11/dist-packages (from rich->keras>=2.2.0->deepface) (2.19.1)\n",
            "Requirement already satisfied: mdurl~=0.1 in /usr/local/lib/python3.11/dist-packages (from markdown-it-py>=2.2.0->rich->keras>=2.2.0->deepface) (0.1.2)\n",
            "Downloading deepface-0.0.93-py3-none-any.whl (108 kB)\n",
            "\u001b[2K   \u001b[90m━━━━━━━━━━━━━━━━━━━━━━━━━━━━━━━━━━━━━━━━\u001b[0m \u001b[32m108.6/108.6 kB\u001b[0m \u001b[31m5.3 MB/s\u001b[0m eta \u001b[36m0:00:00\u001b[0m\n",
            "\u001b[?25hDownloading flask_cors-6.0.0-py3-none-any.whl (11 kB)\n",
            "Downloading gunicorn-23.0.0-py3-none-any.whl (85 kB)\n",
            "\u001b[2K   \u001b[90m━━━━━━━━━━━━━━━━━━━━━━━━━━━━━━━━━━━━━━━━\u001b[0m \u001b[32m85.0/85.0 kB\u001b[0m \u001b[31m6.0 MB/s\u001b[0m eta \u001b[36m0:00:00\u001b[0m\n",
            "\u001b[?25hDownloading mtcnn-1.0.0-py3-none-any.whl (1.9 MB)\n",
            "\u001b[2K   \u001b[90m━━━━━━━━━━━━━━━━━━━━━━━━━━━━━━━━━━━━━━━━\u001b[0m \u001b[32m1.9/1.9 MB\u001b[0m \u001b[31m47.3 MB/s\u001b[0m eta \u001b[36m0:00:00\u001b[0m\n",
            "\u001b[?25hDownloading retina_face-0.0.17-py3-none-any.whl (25 kB)\n",
            "Downloading lz4-4.4.4-cp311-cp311-manylinux_2_17_x86_64.manylinux2014_x86_64.whl (1.3 MB)\n",
            "\u001b[2K   \u001b[90m━━━━━━━━━━━━━━━━━━━━━━━━━━━━━━━━━━━━━━━━\u001b[0m \u001b[32m1.3/1.3 MB\u001b[0m \u001b[31m42.2 MB/s\u001b[0m eta \u001b[36m0:00:00\u001b[0m\n",
            "\u001b[?25hBuilding wheels for collected packages: fire\n",
            "  Building wheel for fire (setup.py) ... \u001b[?25l\u001b[?25hdone\n",
            "  Created wheel for fire: filename=fire-0.7.0-py3-none-any.whl size=114249 sha256=986a464aa7d0db651cf9d595d5ecd32add78cce3fce7d92a5a8f1b7fa5260b5f\n",
            "  Stored in directory: /root/.cache/pip/wheels/46/54/24/1624fd5b8674eb1188623f7e8e17cdf7c0f6c24b609dfb8a89\n",
            "Successfully built fire\n",
            "Installing collected packages: lz4, gunicorn, fire, mtcnn, flask-cors, retina-face, deepface\n",
            "Successfully installed deepface-0.0.93 fire-0.7.0 flask-cors-6.0.0 gunicorn-23.0.0 lz4-4.4.4 mtcnn-1.0.0 retina-face-0.0.17\n"
          ]
        }
      ],
      "source": [
        "!pip install deepface"
      ]
    },
    {
      "cell_type": "code",
      "execution_count": null,
      "metadata": {
        "colab": {
          "base_uri": "https://localhost:8080/",
          "height": 366
        },
        "id": "s6UezdyK-Jsa",
        "outputId": "f09a647d-16c2-4e11-b879-40f77368077f"
      },
      "outputs": [
        {
          "ename": "ModuleNotFoundError",
          "evalue": "No module named 'deepface'",
          "output_type": "error",
          "traceback": [
            "\u001b[0;31m---------------------------------------------------------------------------\u001b[0m",
            "\u001b[0;31mModuleNotFoundError\u001b[0m                       Traceback (most recent call last)",
            "\u001b[0;32m<ipython-input-1-2da5c5c353d4>\u001b[0m in \u001b[0;36m<cell line: 0>\u001b[0;34m()\u001b[0m\n\u001b[0;32m----> 1\u001b[0;31m \u001b[0;32mfrom\u001b[0m \u001b[0mdeepface\u001b[0m \u001b[0;32mimport\u001b[0m \u001b[0mDeepFace\u001b[0m\u001b[0;34m\u001b[0m\u001b[0;34m\u001b[0m\u001b[0m\n\u001b[0m\u001b[1;32m      2\u001b[0m \u001b[0;34m\u001b[0m\u001b[0m\n\u001b[1;32m      3\u001b[0m \u001b[0mresult\u001b[0m \u001b[0;34m=\u001b[0m \u001b[0mDeepFace\u001b[0m\u001b[0;34m.\u001b[0m\u001b[0manalyze\u001b[0m\u001b[0;34m(\u001b[0m\u001b[0mimg_path\u001b[0m\u001b[0;34m=\u001b[0m\u001b[0;34m\"/content/Screenshot_20250327-104101.jpg\"\u001b[0m\u001b[0;34m,\u001b[0m \u001b[0mactions\u001b[0m\u001b[0;34m=\u001b[0m\u001b[0;34m[\u001b[0m\u001b[0;34m\"age\"\u001b[0m\u001b[0;34m,\u001b[0m \u001b[0;34m\"gender\"\u001b[0m\u001b[0;34m,\u001b[0m \u001b[0;34m\"emotion\"\u001b[0m\u001b[0;34m]\u001b[0m\u001b[0;34m)\u001b[0m\u001b[0;34m\u001b[0m\u001b[0;34m\u001b[0m\u001b[0m\n\u001b[1;32m      4\u001b[0m \u001b[0mprint\u001b[0m\u001b[0;34m(\u001b[0m\u001b[0mresult\u001b[0m\u001b[0;34m)\u001b[0m\u001b[0;34m\u001b[0m\u001b[0;34m\u001b[0m\u001b[0m\n",
            "\u001b[0;31mModuleNotFoundError\u001b[0m: No module named 'deepface'",
            "",
            "\u001b[0;31m---------------------------------------------------------------------------\u001b[0;32m\nNOTE: If your import is failing due to a missing package, you can\nmanually install dependencies using either !pip or !apt.\n\nTo view examples of installing some common dependencies, click the\n\"Open Examples\" button below.\n\u001b[0;31m---------------------------------------------------------------------------\u001b[0m\n"
          ]
        }
      ],
      "source": [
        "from deepface import DeepFace\n",
        "\n",
        "result = DeepFace.analyze(img_path=\"/content/Screenshot_20250327-104101.jpg\", actions=[\"age\", \"gender\", \"emotion\"])\n",
        "print(result)"
      ]
    },
    {
      "cell_type": "code",
      "execution_count": null,
      "metadata": {
        "colab": {
          "base_uri": "https://localhost:8080/"
        },
        "id": "K6LAr4bxCZAZ",
        "outputId": "cb09b5eb-261c-45a4-cf68-512179ba703d"
      },
      "outputs": [
        {
          "name": "stdout",
          "output_type": "stream",
          "text": [
            "Collecting telebot\n",
            "  Downloading telebot-0.0.5-py3-none-any.whl.metadata (2.0 kB)\n",
            "Collecting pyTelegramBotAPI (from telebot)\n",
            "  Downloading pytelegrambotapi-4.27.0-py3-none-any.whl.metadata (48 kB)\n",
            "\u001b[2K     \u001b[90m━━━━━━━━━━━━━━━━━━━━━━━━━━━━━━━━━━━━━━━━\u001b[0m \u001b[32m48.3/48.3 kB\u001b[0m \u001b[31m3.0 MB/s\u001b[0m eta \u001b[36m0:00:00\u001b[0m\n",
            "\u001b[?25hRequirement already satisfied: requests in /usr/local/lib/python3.11/dist-packages (from telebot) (2.32.3)\n",
            "Requirement already satisfied: charset-normalizer<4,>=2 in /usr/local/lib/python3.11/dist-packages (from requests->telebot) (3.4.2)\n",
            "Requirement already satisfied: idna<4,>=2.5 in /usr/local/lib/python3.11/dist-packages (from requests->telebot) (3.10)\n",
            "Requirement already satisfied: urllib3<3,>=1.21.1 in /usr/local/lib/python3.11/dist-packages (from requests->telebot) (2.4.0)\n",
            "Requirement already satisfied: certifi>=2017.4.17 in /usr/local/lib/python3.11/dist-packages (from requests->telebot) (2025.4.26)\n",
            "Downloading telebot-0.0.5-py3-none-any.whl (4.8 kB)\n",
            "Downloading pytelegrambotapi-4.27.0-py3-none-any.whl (287 kB)\n",
            "\u001b[2K   \u001b[90m━━━━━━━━━━━━━━━━━━━━━━━━━━━━━━━━━━━━━━━━\u001b[0m \u001b[32m287.4/287.4 kB\u001b[0m \u001b[31m10.9 MB/s\u001b[0m eta \u001b[36m0:00:00\u001b[0m\n",
            "\u001b[?25hInstalling collected packages: pyTelegramBotAPI, telebot\n",
            "Successfully installed pyTelegramBotAPI-4.27.0 telebot-0.0.5\n"
          ]
        }
      ],
      "source": [
        "!pip install telebot"
      ]
    },
    {
      "cell_type": "code",
      "execution_count": null,
      "metadata": {
        "colab": {
          "background_save": true,
          "base_uri": "https://localhost:8080/"
        },
        "id": "HpZm2MHOHHNG",
        "outputId": "3b48d890-2d7a-4ffe-f014-c0d0dd476154"
      },
      "outputs": [
        {
          "name": "stdout",
          "output_type": "stream",
          "text": [
            "25-05-28 04:41:33 - Directory /root/.deepface has been created\n",
            "25-05-28 04:41:33 - Directory /root/.deepface/weights has been created\n"
          ]
        },
        {
          "name": "stderr",
          "output_type": "stream",
          "text": [
            "Action: age:   0%|          | 0/3 [00:00<?, ?it/s]    "
          ]
        },
        {
          "name": "stdout",
          "output_type": "stream",
          "text": [
            "25-05-28 04:41:39 - age_model_weights.h5 will be downloaded...\n"
          ]
        },
        {
          "name": "stderr",
          "output_type": "stream",
          "text": [
            "Downloading...\n",
            "From: https://github.com/serengil/deepface_models/releases/download/v1.0/age_model_weights.h5\n",
            "To: /root/.deepface/weights/age_model_weights.h5\n",
            "\n",
            "  0%|          | 0.00/539M [00:00<?, ?B/s]\u001b[A\n",
            "  2%|▏         | 11.0M/539M [00:00<00:06, 82.4MB/s]\u001b[A\n",
            "  5%|▍         | 26.2M/539M [00:00<00:04, 118MB/s] \u001b[A\n",
            "  7%|▋         | 39.3M/539M [00:00<00:04, 123MB/s]\u001b[A\n",
            " 10%|▉         | 53.0M/539M [00:00<00:04, 107MB/s]\u001b[A\n",
            " 12%|█▏        | 64.5M/539M [00:00<00:04, 108MB/s]\u001b[A\n",
            " 14%|█▍        | 76.0M/539M [00:00<00:04, 107MB/s]\u001b[A\n",
            " 16%|█▋        | 88.6M/539M [00:00<00:04, 112MB/s]\u001b[A\n",
            " 19%|█▊        | 100M/539M [00:00<00:04, 110MB/s] \u001b[A\n",
            " 21%|██        | 112M/539M [00:01<00:04, 105MB/s]\u001b[A\n",
            " 23%|██▎       | 123M/539M [00:01<00:04, 103MB/s]\u001b[A\n",
            " 25%|██▌       | 135M/539M [00:01<00:03, 109MB/s]\u001b[A\n",
            " 27%|██▋       | 147M/539M [00:01<00:03, 110MB/s]\u001b[A\n",
            " 29%|██▉       | 158M/539M [00:01<00:03, 102MB/s]\u001b[A\n",
            " 31%|███▏      | 169M/539M [00:01<00:03, 101MB/s]\u001b[A\n",
            " 33%|███▎      | 180M/539M [00:01<00:03, 103MB/s]\u001b[A\n",
            " 35%|███▌      | 191M/539M [00:01<00:03, 105MB/s]\u001b[A\n",
            " 37%|███▋      | 202M/539M [00:01<00:03, 102MB/s]\u001b[A\n",
            " 40%|███▉      | 213M/539M [00:02<00:03, 104MB/s]\u001b[A\n",
            " 42%|████▏     | 224M/539M [00:02<00:02, 106MB/s]\u001b[A\n",
            " 44%|████▎     | 235M/539M [00:02<00:02, 108MB/s]\u001b[A\n",
            " 46%|████▌     | 247M/539M [00:02<00:02, 110MB/s]\u001b[A\n",
            " 48%|████▊     | 258M/539M [00:02<00:02, 111MB/s]\u001b[A\n",
            " 50%|█████     | 270M/539M [00:02<00:03, 82.3MB/s]\u001b[A\n",
            " 52%|█████▏    | 281M/539M [00:02<00:02, 88.6MB/s]\u001b[A\n",
            " 54%|█████▍    | 291M/539M [00:02<00:02, 86.5MB/s]\u001b[A\n",
            " 56%|█████▌    | 301M/539M [00:02<00:02, 91.0MB/s]\u001b[A\n",
            " 58%|█████▊    | 312M/539M [00:03<00:02, 93.9MB/s]\u001b[A\n",
            " 60%|█████▉    | 322M/539M [00:03<00:02, 95.4MB/s]\u001b[A\n",
            " 62%|██████▏   | 332M/539M [00:03<00:02, 95.7MB/s]\u001b[A\n",
            " 64%|██████▎   | 342M/539M [00:03<00:02, 97.5MB/s]\u001b[A\n",
            " 65%|██████▌   | 352M/539M [00:03<00:01, 97.1MB/s]\u001b[A\n",
            " 67%|██████▋   | 362M/539M [00:03<00:01, 96.8MB/s]\u001b[A\n",
            " 69%|██████▉   | 373M/539M [00:03<00:01, 98.8MB/s]\u001b[A\n",
            " 71%|███████   | 383M/539M [00:03<00:01, 99.1MB/s]\u001b[A\n",
            " 73%|███████▎  | 393M/539M [00:03<00:01, 98.8MB/s]\u001b[A\n",
            " 75%|███████▍  | 403M/539M [00:03<00:01, 98.5MB/s]\u001b[A\n",
            " 77%|███████▋  | 413M/539M [00:04<00:01, 96.9MB/s]\u001b[A\n",
            " 79%|███████▊  | 423M/539M [00:04<00:01, 94.4MB/s]\u001b[A\n",
            " 80%|████████  | 434M/539M [00:04<00:01, 96.4MB/s]\u001b[A\n",
            " 82%|████████▏ | 444M/539M [00:04<00:00, 97.9MB/s]\u001b[A\n",
            " 84%|████████▍ | 455M/539M [00:04<00:00, 99.3MB/s]\u001b[A\n",
            " 86%|████████▋ | 466M/539M [00:04<00:00, 102MB/s] \u001b[A\n",
            " 88%|████████▊ | 476M/539M [00:04<00:00, 101MB/s]\u001b[A\n",
            " 90%|█████████ | 487M/539M [00:04<00:00, 101MB/s]\u001b[A\n",
            " 92%|█████████▏| 497M/539M [00:04<00:00, 102MB/s]\u001b[A\n",
            " 94%|█████████▍| 508M/539M [00:05<00:00, 101MB/s]\u001b[A\n",
            " 96%|█████████▌| 519M/539M [00:05<00:00, 103MB/s]\u001b[A\n",
            "100%|██████████| 539M/539M [00:05<00:00, 101MB/s]\n",
            "Action: gender:  33%|███▎      | 1/3 [00:10<00:20, 10.17s/it]"
          ]
        },
        {
          "name": "stdout",
          "output_type": "stream",
          "text": [
            "25-05-28 04:41:49 - gender_model_weights.h5 will be downloaded...\n"
          ]
        },
        {
          "name": "stderr",
          "output_type": "stream",
          "text": [
            "Downloading...\n",
            "From: https://github.com/serengil/deepface_models/releases/download/v1.0/gender_model_weights.h5\n",
            "To: /root/.deepface/weights/gender_model_weights.h5\n",
            "\n",
            "  0%|          | 0.00/537M [00:00<?, ?B/s]\u001b[A\n",
            "  2%|▏         | 11.0M/537M [00:00<00:06, 83.7MB/s]\u001b[A\n",
            "  5%|▍         | 26.7M/537M [00:00<00:04, 122MB/s] \u001b[A\n",
            "  8%|▊         | 40.4M/537M [00:00<00:03, 128MB/s]\u001b[A\n",
            " 10%|▉         | 53.5M/537M [00:00<00:04, 111MB/s]\u001b[A\n",
            " 13%|█▎        | 68.7M/537M [00:00<00:03, 123MB/s]\u001b[A\n",
            " 15%|█▌        | 81.8M/537M [00:00<00:03, 126MB/s]\u001b[A\n",
            " 18%|█▊        | 94.9M/537M [00:00<00:04, 103MB/s]\u001b[A\n",
            " 20%|██        | 110M/537M [00:00<00:03, 116MB/s] \u001b[A\n",
            " 23%|██▎       | 124M/537M [00:01<00:03, 123MB/s]\u001b[A\n",
            " 26%|██▌       | 137M/537M [00:01<00:03, 111MB/s]\u001b[A\n",
            " 28%|██▊       | 151M/537M [00:01<00:03, 117MB/s]\u001b[A\n",
            " 31%|███       | 166M/537M [00:01<00:02, 126MB/s]\u001b[A\n",
            " 33%|███▎      | 179M/537M [00:01<00:03, 114MB/s]\u001b[A\n",
            " 36%|███▌      | 191M/537M [00:01<00:03, 110MB/s]\u001b[A\n",
            " 38%|███▊      | 204M/537M [00:01<00:02, 115MB/s]\u001b[A\n",
            " 40%|████      | 217M/537M [00:01<00:02, 114MB/s]\u001b[A\n",
            " 43%|████▎     | 231M/537M [00:02<00:02, 108MB/s]\u001b[A\n",
            " 46%|████▌     | 245M/537M [00:02<00:02, 114MB/s]\u001b[A\n",
            " 48%|████▊     | 260M/537M [00:02<00:02, 124MB/s]\u001b[A\n",
            " 51%|█████     | 273M/537M [00:02<00:02, 113MB/s]\u001b[A\n",
            " 53%|█████▎    | 287M/537M [00:02<00:02, 120MB/s]\u001b[A\n",
            " 56%|█████▌    | 301M/537M [00:02<00:01, 125MB/s]\u001b[A\n",
            " 59%|█████▊    | 315M/537M [00:02<00:01, 119MB/s]\u001b[A\n",
            " 61%|██████    | 328M/537M [00:02<00:01, 121MB/s]\u001b[A\n",
            " 63%|██████▎   | 341M/537M [00:02<00:01, 121MB/s]\u001b[A\n",
            " 66%|██████▌   | 353M/537M [00:03<00:01, 116MB/s]\u001b[A\n",
            " 68%|██████▊   | 366M/537M [00:03<00:01, 118MB/s]\u001b[A\n",
            " 70%|███████   | 378M/537M [00:03<00:01, 84.3MB/s]\u001b[A\n",
            " 73%|███████▎  | 391M/537M [00:03<00:01, 93.2MB/s]\u001b[A\n",
            " 75%|███████▍  | 403M/537M [00:03<00:01, 99.4MB/s]\u001b[A\n",
            " 77%|███████▋  | 414M/537M [00:03<00:01, 98.7MB/s]\u001b[A\n",
            " 79%|███████▉  | 427M/537M [00:03<00:01, 106MB/s] \u001b[A\n",
            " 82%|████████▏ | 439M/537M [00:03<00:00, 110MB/s]\u001b[A\n",
            " 84%|████████▍ | 450M/537M [00:04<00:00, 110MB/s]\u001b[A\n",
            " 86%|████████▌ | 462M/537M [00:04<00:00, 106MB/s]\u001b[A\n",
            " 88%|████████▊ | 474M/537M [00:04<00:00, 111MB/s]\u001b[A\n",
            " 91%|█████████ | 488M/537M [00:04<00:00, 118MB/s]\u001b[A\n",
            " 93%|█████████▎| 500M/537M [00:04<00:00, 119MB/s]\u001b[A\n",
            " 95%|█████████▌| 512M/537M [00:04<00:00, 117MB/s]\u001b[A\n",
            " 98%|█████████▊| 525M/537M [00:04<00:00, 116MB/s]\u001b[A\n",
            "100%|██████████| 537M/537M [00:04<00:00, 113MB/s]\n",
            "Action: emotion:  67%|██████▋   | 2/3 [00:19<00:09,  9.41s/it]"
          ]
        },
        {
          "name": "stdout",
          "output_type": "stream",
          "text": [
            "25-05-28 04:41:56 - facial_expression_model_weights.h5 will be downloaded...\n"
          ]
        },
        {
          "name": "stderr",
          "output_type": "stream",
          "text": [
            "Downloading...\n",
            "From: https://github.com/serengil/deepface_models/releases/download/v1.0/facial_expression_model_weights.h5\n",
            "To: /root/.deepface/weights/facial_expression_model_weights.h5\n",
            "\n",
            "100%|██████████| 5.98M/5.98M [00:00<00:00, 99.1MB/s]\n",
            "Action: emotion: 100%|██████████| 3/3 [00:19<00:00,  6.60s/it]\n",
            "Action: emotion: 100%|██████████| 3/3 [00:01<00:00,  2.07it/s]\n"
          ]
        }
      ],
      "source": [
        "import telebot\n",
        "from deepface import DeepFace\n",
        "import os\n",
        "import shutil\n",
        "\n",
        "# Replace with your own bot token from @BotFather\n",
        "BOT_TOKEN = \"7981934246:AAHKQVyTU1H4kPz6btlvsPFiYqEO0jE0s7g\"\n",
        "bot = telebot.TeleBot(BOT_TOKEN)\n",
        "\n",
        "# Start command: only intro, no analysis\n",
        "@bot.message_handler(commands=['start'])\n",
        "def welcome(message):\n",
        "    bot.send_message(\n",
        "        message.chat.id,\n",
        "        \"👋 Hey there! I'm your AI Face Analyzer bot.\\n\\n\"\n",
        "        \"📸 Send me a photo with a visible face, and I’ll tell you:\\n\"\n",
        "        \"- your estimated age\\n\"\n",
        "        \"- your gender\\n\"\n",
        "        \"- your emotion vibe\\n\\n\"\n",
        "        \"Try it out!\"\n",
        "    )\n",
        "\n",
        "# Photo handler: analyze when image is received\n",
        "@bot.message_handler(content_types=['photo'])\n",
        "def handle_photo(message):\n",
        "    bot.send_message(message.chat.id, \"🕵️ Analyzing your photo… please wait...\")\n",
        "\n",
        "    file_info = bot.get_file(message.photo[-1].file_id)\n",
        "    downloaded_file = bot.download_file(file_info.file_path)\n",
        "\n",
        "    filename = f\"{message.chat.id}_photo.jpg\"\n",
        "    with open(filename, 'wb') as f:\n",
        "        f.write(downloaded_file)\n",
        "\n",
        "    try:\n",
        "        result = DeepFace.analyze(img_path=filename, actions=[\"age\", \"gender\", \"emotion\"])\n",
        "        age = result[0][\"age\"]\n",
        "        gender = result[0][\"dominant_gender\"]\n",
        "        emotion = result[0][\"dominant_emotion\"]\n",
        "\n",
        "        response = (\n",
        "            f\"📊 Here’s what I see:\\n\"\n",
        "            f\"• Age: {age}\\n\"\n",
        "            f\"• Gender: {gender}\\n\"\n",
        "            f\"• Emotion: {emotion}\"\n",
        "        )\n",
        "        bot.send_message(message.chat.id, response)\n",
        "\n",
        "    except Exception as e:\n",
        "        bot.send_message(message.chat.id, f\"⚠️ Error analyzing image: {str(e)}\")\n",
        "\n",
        "    finally:\n",
        "        if os.path.exists(filename):\n",
        "            os.remove(filename)\n",
        "\n",
        "bot.polling()\n"
      ]
    }
  ],
  "metadata": {
    "colab": {
      "provenance": []
    },
    "kernelspec": {
      "display_name": "Python 3",
      "name": "python3"
    },
    "language_info": {
      "name": "python"
    }
  },
  "nbformat": 4,
  "nbformat_minor": 0
}